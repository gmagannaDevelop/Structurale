{
 "cells": [
  {
   "cell_type": "markdown",
   "id": "latin-wagner",
   "metadata": {},
   "source": [
    "## Activité 3 : Analyse d’un complexe avec PyMOL"
   ]
  },
  {
   "cell_type": "markdown",
   "id": "exclusive-anime",
   "metadata": {},
   "source": [
    "On ajoute un élément au `python search path` afin de pouvoir utiliser nos \n",
    "fonctions et modules :"
   ]
  },
  {
   "cell_type": "code",
   "execution_count": 1,
   "id": "female-finland",
   "metadata": {},
   "outputs": [
    {
     "name": "stdout",
     "output_type": "stream",
     "text": [
      "Added project root to Python search path\n"
     ]
    }
   ],
   "source": [
    "import sys\n",
    "\n",
    "TXT_PROJ_ROOT = \"/home/gml/Documents/Master/M1_BIBS/S2/Structurale/\"\n",
    "\n",
    "if TXT_PROJ_ROOT not in sys.path:\n",
    "    sys.path.append(TXT_PROJ_ROOT)\n",
    "    print(\"Added project root to Python search path\")\n",
    "else:\n",
    "    print(\"Project root already present in Python search path\")"
   ]
  },
  {
   "cell_type": "markdown",
   "id": "casual-arbor",
   "metadata": {},
   "source": [
    "Classes pour manipuler plus facilement les chemins d'accès en Python :"
   ]
  },
  {
   "cell_type": "code",
   "execution_count": 2,
   "id": "legitimate-touch",
   "metadata": {},
   "outputs": [],
   "source": [
    "from piestruct.utils.customobjs import (ObjDict as odict, Path as path)"
   ]
  },
  {
   "cell_type": "markdown",
   "id": "married-austin",
   "metadata": {},
   "source": [
    "Modules nécessaires pour faire l'analyse structurale :"
   ]
  },
  {
   "cell_type": "code",
   "execution_count": 3,
   "id": "amateur-green",
   "metadata": {},
   "outputs": [
    {
     "data": {
      "application/vnd.jupyter.widget-view+json": {
       "model_id": "13d2caaa221140568a01d7aa5f35ecc5",
       "version_major": 2,
       "version_minor": 0
      },
      "text/plain": []
     },
     "metadata": {},
     "output_type": "display_data"
    }
   ],
   "source": [
    "import Bio.PDB as pdb\n",
    "import freesasa\n",
    "import nglview as nv"
   ]
  },
  {
   "cell_type": "code",
   "execution_count": 4,
   "id": "infrared-summit",
   "metadata": {},
   "outputs": [],
   "source": [
    "proj_root = path(TXT_PROJ_ROOT)"
   ]
  },
  {
   "cell_type": "code",
   "execution_count": 5,
   "id": "bridal-orlando",
   "metadata": {},
   "outputs": [
    {
     "data": {
      "text/plain": [
       "{'1he8.pdb': PosixPath('/home/gml/Documents/Master/M1_BIBS/S2/Structurale/data/1he8.pdb'),\n",
       " '1HE8_AB_c.pdb': PosixPath('/home/gml/Documents/Master/M1_BIBS/S2/Structurale/data/1HE8_AB_c.pdb'),\n",
       " '1e8y.pdb': PosixPath('/home/gml/Documents/Master/M1_BIBS/S2/Structurale/data/1e8y.pdb'),\n",
       " '121p.pdb': PosixPath('/home/gml/Documents/Master/M1_BIBS/S2/Structurale/data/121p.pdb')}"
      ]
     },
     "execution_count": 5,
     "metadata": {},
     "output_type": "execute_result"
    }
   ],
   "source": [
    "pdb_files = proj_root.joinpath(\"data\").dglob(\"*.pdb\")\n",
    "pdb_files"
   ]
  },
  {
   "cell_type": "markdown",
   "id": "final-dryer",
   "metadata": {},
   "source": [
    "## Créer les structures"
   ]
  },
  {
   "cell_type": "code",
   "execution_count": 21,
   "id": "stopped-accountability",
   "metadata": {},
   "outputs": [
    {
     "data": {
      "text/plain": [
       "<freesasa.Structure at 0x7f5eb8d0f780>"
      ]
     },
     "execution_count": 21,
     "metadata": {},
     "output_type": "execute_result"
    }
   ],
   "source": [
    "(prot_s_sasa := freesasa.Structure( pdb_files[\"1HE8_AB_c.pdb\"].abs )) "
   ]
  },
  {
   "cell_type": "code",
   "execution_count": 22,
   "id": "incorporate-invention",
   "metadata": {},
   "outputs": [
    {
     "data": {
      "text/plain": [
       "<freesasa.Result at 0x7f5eb8d30690>"
      ]
     },
     "execution_count": 22,
     "metadata": {},
     "output_type": "execute_result"
    }
   ],
   "source": [
    "(prot_c_sasa := freesasa.calc(prot_s_sasa))"
   ]
  },
  {
   "cell_type": "code",
   "execution_count": 23,
   "id": "aboriginal-quarterly",
   "metadata": {},
   "outputs": [
    {
     "data": {
      "text/plain": [
       "<Structure id=1HE8>"
      ]
     },
     "execution_count": 23,
     "metadata": {},
     "output_type": "execute_result"
    }
   ],
   "source": [
    "# Attention : J'ai mis l'argument QUIET=True pour cacher les alertes issues de l'importation\n",
    "# du fichier. D'après la doc officielle de BioPython, ces \"Warnings\" sont des indicateurs\n",
    "# de problèmes dans la structure du fichier PDB. À RETENIR.\n",
    "(prot_biopy := pdb.PDBParser(QUIET=True).get_structure(id=\"1HE8\", file=pdb_files[\"1HE8_AB_c.pdb\"].abs))"
   ]
  },
  {
   "cell_type": "code",
   "execution_count": 18,
   "id": "applied-record",
   "metadata": {},
   "outputs": [
    {
     "data": {
      "text/plain": [
       "[<Chain id=A>, <Chain id=B>]"
      ]
     },
     "execution_count": 18,
     "metadata": {},
     "output_type": "execute_result"
    }
   ],
   "source": [
    "prot_biopy.get_chains()"
   ]
  },
  {
   "cell_type": "code",
   "execution_count": 50,
   "id": "steady-driving",
   "metadata": {
    "scrolled": true
   },
   "outputs": [
    {
     "data": {
      "application/vnd.jupyter.widget-view+json": {
       "model_id": "942b9797480c441eb6455d3e9c7132f0",
       "version_major": 2,
       "version_minor": 0
      },
      "text/plain": [
       "NGLWidget()"
      ]
     },
     "metadata": {},
     "output_type": "display_data"
    }
   ],
   "source": [
    "(view_A := nv.show_biopython(prot_biopy[0][\"A\"]))"
   ]
  },
  {
   "cell_type": "code",
   "execution_count": 48,
   "id": "differential-phase",
   "metadata": {},
   "outputs": [
    {
     "data": {
      "application/vnd.jupyter.widget-view+json": {
       "model_id": "f6f984db7eda4071b1950119491fb654",
       "version_major": 2,
       "version_minor": 0
      },
      "text/plain": [
       "NGLWidget()"
      ]
     },
     "metadata": {},
     "output_type": "display_data"
    }
   ],
   "source": [
    "(view_B := nv.show_biopython(prot_biopy[0][\"B\"]))"
   ]
  },
  {
   "cell_type": "code",
   "execution_count": 49,
   "id": "framed-backup",
   "metadata": {},
   "outputs": [
    {
     "data": {
      "application/vnd.jupyter.widget-view+json": {
       "model_id": "f808e0c71d5b486fb9171340f0acb506",
       "version_major": 2,
       "version_minor": 0
      },
      "text/plain": [
       "NGLWidget()"
      ]
     },
     "metadata": {},
     "output_type": "display_data"
    }
   ],
   "source": [
    "(view_full := nv.show_biopython(prot_biopy))"
   ]
  },
  {
   "cell_type": "markdown",
   "id": "stupid-physics",
   "metadata": {},
   "source": [
    "### Tâche 3.1"
   ]
  },
  {
   "cell_type": "markdown",
   "id": "cooked-definition",
   "metadata": {},
   "source": [
    "1. De quelles protéines s’agit-il ?\n",
    "\n",
    "Il s'agit du complexe Ras G12V - PI 3-kinase gamma. C'est un hétéro-2-mère A1B1 asymétrique, dont la fonction est importante pour la survie de cellules transformées (_Ras activation of phosphoinositide 3-kinase (PI3K) is important for survival of transformed cells_)."
   ]
  },
  {
   "cell_type": "markdown",
   "id": "instant-atmosphere",
   "metadata": {},
   "source": [
    "2. Combien de chaînes polypeptidiques contient le fichier PDB ? Combien de résidus par chaîne ?"
   ]
  },
  {
   "cell_type": "code",
   "execution_count": 25,
   "id": "behavioral-recipient",
   "metadata": {},
   "outputs": [
    {
     "data": {
      "text/plain": [
       "2"
      ]
     },
     "execution_count": 25,
     "metadata": {},
     "output_type": "execute_result"
    }
   ],
   "source": [
    "sum(1 for chain in prot_biopy.get_chains())"
   ]
  },
  {
   "cell_type": "code",
   "execution_count": 36,
   "id": "capable-penetration",
   "metadata": {},
   "outputs": [],
   "source": [
    "prot_resid_areas = prot_c_sasa.residueAreas()"
   ]
  },
  {
   "cell_type": "code",
   "execution_count": 38,
   "id": "patient-accent",
   "metadata": {},
   "outputs": [
    {
     "name": "stdout",
     "output_type": "stream",
     "text": [
      "chain A : 749 residues\n",
      "chain B : 166 residues\n"
     ]
    }
   ],
   "source": [
    "for chain in prot_resid_areas.keys():\n",
    "    print(f\"chain {chain} : {sum(1 for residue in prot_resid_areas[chain])} residues\")"
   ]
  },
  {
   "cell_type": "markdown",
   "id": "invalid-reporter",
   "metadata": {},
   "source": [
    "La structure PDB `1HE8_AB_c` contient deux chaînes, A et B. La chaîne A contient 766 résidus, c'est-à-dire plus de quatre fois plus que la chaîne B. Ceci nous mène à dire qu'il s'agit d'un hétéro-dimère. Ceci est en accord avec les informations trouvées sur la fiche `RCSB PDB`."
   ]
  },
  {
   "cell_type": "markdown",
   "id": "guilty-highway",
   "metadata": {},
   "source": [
    "### Tâche 3.2\n",
    "Allez voir les fiches Uniprot correspondantes aux deux monomères en utilisant les liens dans la fiche du\n",
    "PDB\n",
    "\n",
    "Pour chaque protéine dans le complexe, répondez aux questions suivantes :\n",
    "1. La structure PDB représente-t-elle la protéine entière ou une portion ?\n",
    "2. La protéine est composée de plusieurs domaines ?\n",
    "3. Quelle est la fonction (putative) de la protéine ? et de ses domaines ?"
   ]
  },
  {
   "cell_type": "markdown",
   "id": "capital-prior",
   "metadata": {},
   "source": []
  },
  {
   "cell_type": "code",
   "execution_count": null,
   "id": "elegant-panel",
   "metadata": {},
   "outputs": [],
   "source": []
  }
 ],
 "metadata": {
  "kernelspec": {
   "display_name": "Python 3",
   "language": "python",
   "name": "python3"
  },
  "language_info": {
   "codemirror_mode": {
    "name": "ipython",
    "version": 3
   },
   "file_extension": ".py",
   "mimetype": "text/x-python",
   "name": "python",
   "nbconvert_exporter": "python",
   "pygments_lexer": "ipython3",
   "version": "3.8.6"
  }
 },
 "nbformat": 4,
 "nbformat_minor": 5
}
