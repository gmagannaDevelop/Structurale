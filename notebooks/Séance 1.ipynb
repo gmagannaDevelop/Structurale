{
 "cells": [
  {
   "cell_type": "markdown",
   "id": "latin-wagner",
   "metadata": {},
   "source": [
    "## Activité 3 : Analyse d’un complexe avec PyMOL"
   ]
  },
  {
   "cell_type": "markdown",
   "id": "exclusive-anime",
   "metadata": {},
   "source": [
    "On ajoute un élément au `python search path` afin de pouvoir utiliser nos \n",
    "fonctions et modules :"
   ]
  },
  {
   "cell_type": "code",
   "execution_count": 1,
   "id": "female-finland",
   "metadata": {},
   "outputs": [
    {
     "name": "stdout",
     "output_type": "stream",
     "text": [
      "Added project root to Python search path\n"
     ]
    }
   ],
   "source": [
    "import sys\n",
    "\n",
    "TXT_PROJ_ROOT = \"/home/gml/Documents/Master/M1_BIBS/S2/Structurale/\"\n",
    "\n",
    "if TXT_PROJ_ROOT not in sys.path:\n",
    "    sys.path.append(TXT_PROJ_ROOT)\n",
    "    print(\"Added project root to Python search path\")\n",
    "else:\n",
    "    print(\"Project root already present in Python search path\")"
   ]
  },
  {
   "cell_type": "markdown",
   "id": "separated-experiment",
   "metadata": {},
   "source": [
    "Classes pour manipuler plus facilement les chemins d'accès en Python :"
   ]
  },
  {
   "cell_type": "code",
   "execution_count": 2,
   "id": "legitimate-touch",
   "metadata": {},
   "outputs": [],
   "source": [
    "from piestruct.utils.customobjs import (ObjDict as odict, Path as path)\n",
    "from piestruct.utils.customfuncs import udir"
   ]
  },
  {
   "cell_type": "markdown",
   "id": "unavailable-flash",
   "metadata": {},
   "source": [
    "Modules nécessaires pour faire l'analyse structurale :"
   ]
  },
  {
   "cell_type": "code",
   "execution_count": 3,
   "id": "amateur-green",
   "metadata": {},
   "outputs": [
    {
     "data": {
      "application/vnd.jupyter.widget-view+json": {
       "model_id": "199b5b3c5d9e4c119cd5004a99625598",
       "version_major": 2,
       "version_minor": 0
      },
      "text/plain": []
     },
     "metadata": {},
     "output_type": "display_data"
    }
   ],
   "source": [
    "import Bio.PDB as pdb\n",
    "import freesasa\n",
    "import nglview as nv"
   ]
  },
  {
   "cell_type": "code",
   "execution_count": 4,
   "id": "infrared-summit",
   "metadata": {},
   "outputs": [],
   "source": [
    "proj_root = path(TXT_PROJ_ROOT)"
   ]
  },
  {
   "cell_type": "code",
   "execution_count": 5,
   "id": "bridal-orlando",
   "metadata": {},
   "outputs": [
    {
     "data": {
      "text/plain": [
       "{'1he8.pdb': PosixPath('/home/gml/Documents/Master/M1_BIBS/S2/Structurale/data/1he8.pdb'),\n",
       " '1HE8_AB_c.pdb': PosixPath('/home/gml/Documents/Master/M1_BIBS/S2/Structurale/data/1HE8_AB_c.pdb'),\n",
       " '1e8y.pdb': PosixPath('/home/gml/Documents/Master/M1_BIBS/S2/Structurale/data/1e8y.pdb'),\n",
       " '121p.pdb': PosixPath('/home/gml/Documents/Master/M1_BIBS/S2/Structurale/data/121p.pdb')}"
      ]
     },
     "execution_count": 5,
     "metadata": {},
     "output_type": "execute_result"
    }
   ],
   "source": [
    "pdb_files = proj_root.joinpath(\"data\").dglob(\"*.pdb\")\n",
    "pdb_files"
   ]
  },
  {
   "cell_type": "markdown",
   "id": "final-dryer",
   "metadata": {},
   "source": [
    "## Créer les structures"
   ]
  },
  {
   "cell_type": "code",
   "execution_count": 6,
   "id": "stopped-accountability",
   "metadata": {},
   "outputs": [
    {
     "data": {
      "text/plain": [
       "<freesasa.Structure at 0x7fddfce833c0>"
      ]
     },
     "execution_count": 6,
     "metadata": {},
     "output_type": "execute_result"
    }
   ],
   "source": [
    "(prot_s_sasa := freesasa.Structure( pdb_files[\"1HE8_AB_c.pdb\"].abs )) "
   ]
  },
  {
   "cell_type": "code",
   "execution_count": 7,
   "id": "electrical-identification",
   "metadata": {},
   "outputs": [
    {
     "data": {
      "text/plain": [
       "<freesasa.Result at 0x7fddfcf0db10>"
      ]
     },
     "execution_count": 7,
     "metadata": {},
     "output_type": "execute_result"
    }
   ],
   "source": [
    "(prot_c_sasa := freesasa.calc(prot_s_sasa))"
   ]
  },
  {
   "cell_type": "code",
   "execution_count": 8,
   "id": "aboriginal-quarterly",
   "metadata": {},
   "outputs": [
    {
     "data": {
      "text/plain": [
       "<Structure id=1HE8>"
      ]
     },
     "execution_count": 8,
     "metadata": {},
     "output_type": "execute_result"
    }
   ],
   "source": [
    "# Attention : J'ai mis l'argument QUIET=True pour cacher les alertes issues de l'importation\n",
    "# du fichier. D'après la doc officielle de BioPython, ces \"Warnings\" sont des indicateurs\n",
    "# de problèmes dans la structure du fichier PDB. À RETENIR.\n",
    "(prot_biopy := pdb\n",
    " .PDBParser(QUIET=True)\n",
    " .get_structure(id=\"1HE8\", file=pdb_files[\"1HE8_AB_c.pdb\"].abs)\n",
    ")"
   ]
  },
  {
   "cell_type": "markdown",
   "id": "rising-impossible",
   "metadata": {},
   "source": [
    "**Notes sur les structures PDB de BioPython** :\n",
    "\n",
    "La fonction `Bio.PDB.PDBParser().get_structure` renvoie un objet de type `Structure(Bio.PDB.Entity.Entity)`.\n",
    "Celui-ci est \"subscriptable\" comme une liste. Chacun des éléments, sera alors un modèle `Model(Bio.PDB.Entity.Entity)`. \n",
    "\n",
    "Voir `help(prot_biopy[0])`\n",
    "\n",
    "...\n",
    "   \n",
    "   The object representing a model in a structure.\n",
    "   \n",
    "   In a structure derived from an X-ray crystallography experiment,\n",
    "   only a single model will be present (with some exceptions). NMR\n",
    "   structures normally contain many different models.\n",
    "   \n",
    "   Method resolution order:\n",
    "       Model\n",
    "       Bio.PDB.Entity.Entity\n",
    "       builtins.object"
   ]
  },
  {
   "cell_type": "code",
   "execution_count": 9,
   "id": "fiscal-ozone",
   "metadata": {},
   "outputs": [],
   "source": [
    "prot_m_biopy = prot_biopy[0]"
   ]
  },
  {
   "cell_type": "markdown",
   "id": "boolean-sustainability",
   "metadata": {},
   "source": [
    "**Note on views** : These are not rendered on the html version of the notebook. To visualise them download the notebook and import a pdb file."
   ]
  },
  {
   "cell_type": "markdown",
   "id": "caring-shade",
   "metadata": {},
   "source": [
    "### Tâche 3.1"
   ]
  },
  {
   "cell_type": "markdown",
   "id": "endless-yield",
   "metadata": {},
   "source": [
    "1. De quelles protéines s’agit-il ?\n",
    "\n",
    "Il s'agit du complexe Ras G12V - PI 3-kinase gamma. C'est un hétéro-2-mère A1B1 asymétrique, dont la fonction est importante pour la survie de cellules transformées (_Ras activation of phosphoinositide 3-kinase (PI3K) is important for survival of transformed cells_)."
   ]
  },
  {
   "cell_type": "markdown",
   "id": "impaired-tuning",
   "metadata": {},
   "source": [
    "2. Combien de chaînes polypeptidiques contient le fichier PDB ? Combien de résidus par chaîne ?"
   ]
  },
  {
   "cell_type": "code",
   "execution_count": 13,
   "id": "equipped-clear",
   "metadata": {},
   "outputs": [
    {
     "data": {
      "text/plain": [
       "2"
      ]
     },
     "execution_count": 13,
     "metadata": {},
     "output_type": "execute_result"
    }
   ],
   "source": [
    "# via BioPython\n",
    "sum(1 for chain in prot_biopy.get_chains())"
   ]
  },
  {
   "cell_type": "code",
   "execution_count": 14,
   "id": "athletic-disabled",
   "metadata": {},
   "outputs": [
    {
     "name": "stdout",
     "output_type": "stream",
     "text": [
      "Chain A : 749\n",
      "Chain B : 166\n"
     ]
    }
   ],
   "source": [
    "# via BioPython\n",
    "for chain in prot_m_biopy.get_chains():\n",
    "    print(f\"Chain {chain.id} : {sum(1 for i in chain.get_residues())}\")"
   ]
  },
  {
   "cell_type": "code",
   "execution_count": 15,
   "id": "infectious-reference",
   "metadata": {},
   "outputs": [],
   "source": [
    "prot_resid_areas = prot_c_sasa.residueAreas()"
   ]
  },
  {
   "cell_type": "code",
   "execution_count": 16,
   "id": "interim-providence",
   "metadata": {},
   "outputs": [
    {
     "name": "stdout",
     "output_type": "stream",
     "text": [
      "chain A : 749 residues\n",
      "chain B : 166 residues\n"
     ]
    }
   ],
   "source": [
    "# via freesasa \n",
    "for chain in prot_resid_areas.keys():\n",
    "    print(f\"chain {chain} : {sum(1 for residue in prot_resid_areas[chain])} residues\")"
   ]
  },
  {
   "cell_type": "markdown",
   "id": "invalid-reporter",
   "metadata": {},
   "source": [
    "La structure PDB `1HE8_AB_c` contient deux chaînes, A et B. La chaîne A contient 766 résidus, c'est-à-dire plus de quatre fois plus que la chaîne B. Ceci nous mène à dire qu'il s'agit d'un hétéro-dimère. Ceci est en accord avec les informations trouvées sur la fiche `RCSB PDB`."
   ]
  },
  {
   "cell_type": "markdown",
   "id": "close-nicholas",
   "metadata": {},
   "source": [
    "### Tâche 3.2\n",
    "Allez voir les fiches Uniprot correspondantes aux deux monomères en utilisant les liens dans la fiche du\n",
    "PDB\n",
    "\n",
    "Pour chaque protéine dans le complexe, répondez aux questions suivantes :\n",
    "1. La structure PDB représente-t-elle la protéine entière ou une portion ?\n",
    "2. La protéine est composée de plusieurs domaines ?\n",
    "3. Quelle est la fonction (putative) de la protéine ? et de ses domaines ?"
   ]
  },
  {
   "cell_type": "markdown",
   "id": "hollywood-tension",
   "metadata": {},
   "source": [
    "#### Chaîne A : UniProtKB - [P48736 (PK3CG_HUMAN)](https://www.uniprot.org/uniprot/P48736)\n",
    "\n",
    "1. La structure PDB ne représente qu'une portion de cette protéine, vu que les longueurs de séquence ne coincident pas : \n",
    "\n",
    "$$\n",
    "    len(1HE8_{A}) = 965 \\;\\;\\;\\; len(P48736) = 1102\n",
    "$$\n",
    "\n",
    "On trouve aussi une description plus detaillée dans la section **Structure**, l'entrée PDB _1HE8_ correspond aux positions $144-1102$\n",
    "\n",
    "2. La protéine est composée de plusieurs domaines ?\n",
    "\n",
    "Oui, ce sont [les suivants](https://www.uniprot.org/uniprot/P48736#family_and_domains) :\n",
    "\n",
    "\n",
    "| Feature key | Position(s) | Description  | Putative Function |\n",
    "|-------------|-------------|--------------|----------|\n",
    "| Domain  |  34 – 141   |  PI3K-ABD     | The adaptor-binding domain (ABD) binds to p85, the regulatory subunit. |\n",
    "| Domain  |  217 – 309  |  PI3K-RBD     |  PI3K RBD is a Ras-binding domain. |\n",
    "| Domain  |  357 – 521  |  C2 PI3K-type |  The putative membrane-binding PI3K-type C2 domain is an eight- stranded antiparallel beta-sandwich consisting of two four-stranded beta- sheets.  |\n",
    "| Domain  |  541 – 723  |  PIK helical  | The phosphoinositide kinase (PIK) domain is a region conserved among all PI3 and PI4-kinases and although its role is presently unclear, it is likely to be involved in substrate presentation |\n",
    "| Domain  |  828 – 1073 |  PI3K/PI4K    |  \tPhosphorylates phosphoinositides on the 3-hydroxyl group of the inositol ring. |\n",
    "\n",
    "\n",
    "3. Quelle est la fonction (putative) de la protéine ? et de ses domaines ?\n",
    "\n",
    "Les fonctions sont détailles dans [cette section](https://www.uniprot.org/uniprot/P48736#function).\n",
    "Elle possède plusieurs fonctions putatives :\n",
    "\n",
    "    * Phosphorilation ( PtdIns(4,5)P2 ==> PIP3 )\n",
    "    * Activation de cascades de signalisation liées à la croissance/developement cellulaires, survie, proliferation, motilité et morphologie.\n",
    "    * Nécessaire pour le developement et la signalisation de lymphocyte B\n",
    "    \n",
    "Pour les fonctions de chacun des domaines, voir le tableau précédent."
   ]
  },
  {
   "cell_type": "markdown",
   "id": "cooked-companion",
   "metadata": {},
   "source": [
    "#### Chaîne B : UniProtKB - [P01112 (RASH_HUMAN)](https://www.uniprot.org/uniprot/P01112)\n",
    "\n",
    "1. La structure PDB représente-t-elle la protéine entière ou une portion ?\n",
    "\n",
    "$$\n",
    "    len(1HE8_{B}) = 166 \\;\\;\\;\\; len(P01112) = 189 (isoforme \\; A) \\; ;\\;  170  (isoforme \\; B)\n",
    "$$\n",
    "\n",
    "\n",
    "La structure PDB contient 166 résidus, ce qui représente une portion peu importe l'isoforme.\n",
    "\n",
    "2. La protéine est composée de plusieurs domaines ?\n",
    "\n",
    "| Feature key | Position(s) | Description  | Putative Function |\n",
    "|-------------|-------------|--------------|-------------------|\n",
    "| Region      |   166–185   |  Hypervariable region |    NA      |\n",
    "| Motifi      |   32–40     |  Effector region      |    NA      |\n",
    "\n",
    "3. Quelle est la fonction (putative) de la protéine ? et de ses domaines ?\n",
    "\n",
    "Involved in the activation of Ras protein signal transduction (PubMed:22821884). Ras proteins bind GDP/GTP and possess intrinsic GTPase activity (PubMed:12740440, PubMed:14500341, PubMed:9020151)."
   ]
  },
  {
   "cell_type": "markdown",
   "id": "mobile-williams",
   "metadata": {},
   "source": [
    "### Tâche 3.3\n",
    "\n",
    "Ouvrir le fichier PDB fourni dans PyMOL et répondez aux questions suivantes :\n",
    "\n",
    "1. Montrer le cartoon \n",
    "\n",
    "2. Combien de chaînes y a-t-il dans la structure ?\n",
    "\n",
    "3. Quelle est la topologie des différentes chaînes ?\n",
    "\n",
    "    Des brins et feuillets β, avec des hélices α.\n",
    "\n",
    "4. Identifier visuellement l’interface de contact entre les deux protéines : quelles structures secondaires participent à l’interface ?\n",
    "\n",
    "    Des brins β.\n",
    "\n",
    "5. Sauvegardez à fichier la session PyMOL (Menu <File→Save Session As>)."
   ]
  },
  {
   "cell_type": "code",
   "execution_count": 18,
   "id": "scientific-british",
   "metadata": {},
   "outputs": [
    {
     "data": {
      "text/plain": [
       "2"
      ]
     },
     "execution_count": 18,
     "metadata": {},
     "output_type": "execute_result"
    }
   ],
   "source": [
    "# via BioPython\n",
    "sum(1 for chain in prot_biopy.get_chains())"
   ]
  },
  {
   "cell_type": "code",
   "execution_count": 19,
   "id": "controlling-legislation",
   "metadata": {},
   "outputs": [
    {
     "data": {
      "application/vnd.jupyter.widget-view+json": {
       "model_id": "4415b9464ced4c45a1e7fb218dc71a63",
       "version_major": 2,
       "version_minor": 0
      },
      "text/plain": [
       "NGLWidget()"
      ]
     },
     "metadata": {},
     "output_type": "display_data"
    }
   ],
   "source": [
    "(view_full := nv.show_biopython(prot_biopy))"
   ]
  },
  {
   "cell_type": "code",
   "execution_count": 21,
   "id": "comparable-brass",
   "metadata": {},
   "outputs": [
    {
     "data": {
      "application/vnd.jupyter.widget-view+json": {
       "model_id": "b0001a6352a548429774e499a9211722",
       "version_major": 2,
       "version_minor": 0
      },
      "text/plain": [
       "NGLWidget()"
      ]
     },
     "metadata": {},
     "output_type": "display_data"
    }
   ],
   "source": [
    "(view_A := nv.show_biopython(prot_biopy[0][\"A\"]))"
   ]
  },
  {
   "cell_type": "code",
   "execution_count": 20,
   "id": "binding-minister",
   "metadata": {},
   "outputs": [
    {
     "data": {
      "application/vnd.jupyter.widget-view+json": {
       "model_id": "e36693d1dab142e2be2cccb61b19e172",
       "version_major": 2,
       "version_minor": 0
      },
      "text/plain": [
       "NGLWidget()"
      ]
     },
     "metadata": {},
     "output_type": "display_data"
    }
   ],
   "source": [
    "(view_B := nv.show_biopython(prot_biopy[0][\"B\"]))"
   ]
  },
  {
   "cell_type": "code",
   "execution_count": null,
   "id": "independent-flight",
   "metadata": {},
   "outputs": [],
   "source": []
  }
 ],
 "metadata": {
  "kernelspec": {
   "display_name": "Python 3",
   "language": "python",
   "name": "python3"
  },
  "language_info": {
   "codemirror_mode": {
    "name": "ipython",
    "version": 3
   },
   "file_extension": ".py",
   "mimetype": "text/x-python",
   "name": "python",
   "nbconvert_exporter": "python",
   "pygments_lexer": "ipython3",
   "version": "3.8.6"
  }
 },
 "nbformat": 4,
 "nbformat_minor": 5
}
