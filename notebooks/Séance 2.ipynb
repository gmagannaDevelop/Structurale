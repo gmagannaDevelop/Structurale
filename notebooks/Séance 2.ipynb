{
 "cells": [
  {
   "cell_type": "code",
   "execution_count": 1,
   "id": "female-finland",
   "metadata": {},
   "outputs": [],
   "source": [
    "import sys"
   ]
  },
  {
   "cell_type": "code",
   "execution_count": 2,
   "id": "timely-award",
   "metadata": {},
   "outputs": [],
   "source": [
    "TXT_PROJ_ROOT = \"/home/gml/Documents/Master/M1_BIBS/S2/Structurale/\""
   ]
  },
  {
   "cell_type": "code",
   "execution_count": 3,
   "id": "caring-terminal",
   "metadata": {},
   "outputs": [],
   "source": [
    "sys.path.append(TXT_PROJ_ROOT)"
   ]
  },
  {
   "cell_type": "code",
   "execution_count": 8,
   "id": "legitimate-touch",
   "metadata": {},
   "outputs": [],
   "source": [
    "from piestruct.utils.customobjs import (ObjDict as odict, Path as path)"
   ]
  },
  {
   "cell_type": "code",
   "execution_count": 9,
   "id": "amateur-green",
   "metadata": {},
   "outputs": [],
   "source": [
    "import freesasa"
   ]
  },
  {
   "cell_type": "code",
   "execution_count": 10,
   "id": "infrared-summit",
   "metadata": {},
   "outputs": [],
   "source": [
    "proj_root = path(TXT_PROJ_ROOT)"
   ]
  },
  {
   "cell_type": "code",
   "execution_count": 11,
   "id": "bridal-orlando",
   "metadata": {},
   "outputs": [
    {
     "data": {
      "text/plain": [
       "{'1he8.pdb': PosixPath('/home/gml/Documents/Master/M1_BIBS/S2/Structurale/data/1he8.pdb'),\n",
       " '1HE8_AB_c.pdb': PosixPath('/home/gml/Documents/Master/M1_BIBS/S2/Structurale/data/1HE8_AB_c.pdb'),\n",
       " '1e8y.pdb': PosixPath('/home/gml/Documents/Master/M1_BIBS/S2/Structurale/data/1e8y.pdb'),\n",
       " '121p.pdb': PosixPath('/home/gml/Documents/Master/M1_BIBS/S2/Structurale/data/121p.pdb')}"
      ]
     },
     "execution_count": 11,
     "metadata": {},
     "output_type": "execute_result"
    }
   ],
   "source": [
    "pdb_files = proj_root.joinpath(\"data\").dglob(\"*.pdb\")\n",
    "pdb_files"
   ]
  },
  {
   "cell_type": "markdown",
   "id": "final-dryer",
   "metadata": {},
   "source": [
    "## Créer les structures \"freesasa\""
   ]
  },
  {
   "cell_type": "code",
   "execution_count": 12,
   "id": "stopped-accountability",
   "metadata": {},
   "outputs": [
    {
     "data": {
      "text/plain": [
       "{'1he8': <freesasa.Structure at 0x7fe4644faf00>,\n",
       " '1HE8_AB_c': <freesasa.Structure at 0x7fe4645010c0>,\n",
       " '1e8y': <freesasa.Structure at 0x7fe464501de0>,\n",
       " '121p': <freesasa.Structure at 0x7fe464501ed0>}"
      ]
     },
     "execution_count": 12,
     "metadata": {},
     "output_type": "execute_result"
    }
   ],
   "source": [
    "structures = odict({ \n",
    "    name.replace(\".pdb\", \"\"): freesasa.Structure(location.abs) \n",
    "    for name, location in pdb_files.items() \n",
    "})\n",
    "structures"
   ]
  },
  {
   "cell_type": "markdown",
   "id": "invalid-reporter",
   "metadata": {},
   "source": [
    "## Faire le calcul \n",
    "Je ne sais pas de quoi "
   ]
  },
  {
   "cell_type": "code",
   "execution_count": 13,
   "id": "confirmed-affiliation",
   "metadata": {},
   "outputs": [
    {
     "data": {
      "text/plain": [
       "{'1he8': <freesasa.Result at 0x7fe464518d90>,\n",
       " '1HE8_AB_c': <freesasa.Result at 0x7fe464518910>,\n",
       " '1e8y': <freesasa.Result at 0x7fe464518930>,\n",
       " '121p': <freesasa.Result at 0x7fe464518e90>}"
      ]
     },
     "execution_count": 13,
     "metadata": {},
     "output_type": "execute_result"
    }
   ],
   "source": [
    "sasas = odict({\n",
    "    name: freesasa.calc(struct)\n",
    "    for name, struct in structures.items()\n",
    "})\n",
    "sasas"
   ]
  },
  {
   "cell_type": "markdown",
   "id": "floating-shower",
   "metadata": {},
   "source": [
    "## Calculer les aires"
   ]
  },
  {
   "cell_type": "code",
   "execution_count": 14,
   "id": "impressed-herald",
   "metadata": {},
   "outputs": [],
   "source": [
    "resid_areas = odict({\n",
    "    name: sasa.residueAreas()\n",
    "    for name, sasa in sasas.items()\n",
    "})"
   ]
  },
  {
   "cell_type": "code",
   "execution_count": 15,
   "id": "defined-tragedy",
   "metadata": {},
   "outputs": [],
   "source": [
    "monomere1 = resid_areas[\"121p\"]\n",
    "monomere2 = resid_areas[\"1e8y\"]"
   ]
  },
  {
   "cell_type": "code",
   "execution_count": 16,
   "id": "massive-microwave",
   "metadata": {},
   "outputs": [
    {
     "data": {
      "text/plain": [
       "(dict_keys(['A']), dict_keys(['A']))"
      ]
     },
     "execution_count": 16,
     "metadata": {},
     "output_type": "execute_result"
    }
   ],
   "source": [
    "monomere1.keys(), monomere2.keys()"
   ]
  },
  {
   "cell_type": "code",
   "execution_count": 17,
   "id": "requested-synthesis",
   "metadata": {},
   "outputs": [],
   "source": [
    "for value in monomere1[\"A\"].values():\n",
    "    if value.relativeTotal > 1.0:\n",
    "        print(\"Marco non ci dice la verità\")"
   ]
  },
  {
   "cell_type": "code",
   "execution_count": 18,
   "id": "acoustic-richardson",
   "metadata": {},
   "outputs": [
    {
     "data": {
      "text/plain": [
       "53.29124167145358"
      ]
     },
     "execution_count": 18,
     "metadata": {},
     "output_type": "execute_result"
    }
   ],
   "source": [
    "sum(residu.relativeTotal for residu in monomere1[\"A\"].values())"
   ]
  },
  {
   "cell_type": "code",
   "execution_count": 19,
   "id": "failing-poetry",
   "metadata": {},
   "outputs": [
    {
     "data": {
      "text/plain": [
       "8720.956397446842"
      ]
     },
     "execution_count": 19,
     "metadata": {},
     "output_type": "execute_result"
    }
   ],
   "source": [
    "sum(sasa.total for sasa in monomere1[\"A\"].values())"
   ]
  },
  {
   "cell_type": "code",
   "execution_count": 20,
   "id": "massive-olive",
   "metadata": {},
   "outputs": [],
   "source": [
    "complexe = sasas['1HE8_AB_c'].residueAreas()"
   ]
  },
  {
   "cell_type": "code",
   "execution_count": 21,
   "id": "tough-muscle",
   "metadata": {},
   "outputs": [
    {
     "data": {
      "text/plain": [
       "dict_keys(['A', 'B'])"
      ]
     },
     "execution_count": 21,
     "metadata": {},
     "output_type": "execute_result"
    }
   ],
   "source": [
    "complexe.keys()"
   ]
  },
  {
   "cell_type": "code",
   "execution_count": 77,
   "id": "growing-period",
   "metadata": {},
   "outputs": [
    {
     "data": {
      "text/plain": [
       "['__class__',\n",
       " '__delattr__',\n",
       " '__dict__',\n",
       " '__dir__',\n",
       " '__doc__',\n",
       " '__eq__',\n",
       " '__format__',\n",
       " '__ge__',\n",
       " '__getattribute__',\n",
       " '__gt__',\n",
       " '__hash__',\n",
       " '__init__',\n",
       " '__init_subclass__',\n",
       " '__le__',\n",
       " '__lt__',\n",
       " '__module__',\n",
       " '__ne__',\n",
       " '__new__',\n",
       " '__reduce__',\n",
       " '__reduce_ex__',\n",
       " '__repr__',\n",
       " '__setattr__',\n",
       " '__sizeof__',\n",
       " '__str__',\n",
       " '__subclasshook__',\n",
       " '__weakref__',\n",
       " 'apolar',\n",
       " 'hasRelativeAreas',\n",
       " 'mainChain',\n",
       " 'polar',\n",
       " 'relativeApolar',\n",
       " 'relativeMainChain',\n",
       " 'relativePolar',\n",
       " 'relativeSideChain',\n",
       " 'relativeTotal',\n",
       " 'residueNumber',\n",
       " 'residueType',\n",
       " 'sideChain',\n",
       " 'total']"
      ]
     },
     "execution_count": 77,
     "metadata": {},
     "output_type": "execute_result"
    }
   ],
   "source": [
    "dir(monomere1[\"A\"][\"1\"])"
   ]
  },
  {
   "cell_type": "code",
   "execution_count": null,
   "id": "expanded-meditation",
   "metadata": {},
   "outputs": [],
   "source": []
  }
 ],
 "metadata": {
  "kernelspec": {
   "display_name": "Python 3",
   "language": "python",
   "name": "python3"
  },
  "language_info": {
   "codemirror_mode": {
    "name": "ipython",
    "version": 3
   },
   "file_extension": ".py",
   "mimetype": "text/x-python",
   "name": "python",
   "nbconvert_exporter": "python",
   "pygments_lexer": "ipython3",
   "version": "3.8.6"
  }
 },
 "nbformat": 4,
 "nbformat_minor": 5
}
