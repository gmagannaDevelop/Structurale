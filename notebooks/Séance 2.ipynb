{
 "cells": [
  {
   "cell_type": "code",
   "execution_count": 1,
   "id": "female-finland",
   "metadata": {},
   "outputs": [],
   "source": [
    "import sys"
   ]
  },
  {
   "cell_type": "code",
   "execution_count": 2,
   "id": "timely-award",
   "metadata": {},
   "outputs": [],
   "source": [
    "TXT_PROJ_ROOT = \"/home/gml/Documents/Master/M1_BIBS/S2/Structurale/\""
   ]
  },
  {
   "cell_type": "code",
   "execution_count": 3,
   "id": "caring-terminal",
   "metadata": {},
   "outputs": [],
   "source": [
    "sys.path.append(TXT_PROJ_ROOT)"
   ]
  },
  {
   "cell_type": "code",
   "execution_count": 39,
   "id": "legitimate-touch",
   "metadata": {},
   "outputs": [],
   "source": [
    "from piestruct.utils.customobjs import (ObjDict as odict, Path as path)\n",
    "from piestruct.utils.customfuncs import udir"
   ]
  },
  {
   "cell_type": "code",
   "execution_count": 5,
   "id": "amateur-green",
   "metadata": {},
   "outputs": [
    {
     "data": {
      "application/vnd.jupyter.widget-view+json": {
       "model_id": "af1446e326c2466da6ecd8f53b9b7dea",
       "version_major": 2,
       "version_minor": 0
      },
      "text/plain": []
     },
     "metadata": {},
     "output_type": "display_data"
    }
   ],
   "source": [
    "import Bio.PDB as pdb\n",
    "import freesasa\n",
    "import nglview as nv"
   ]
  },
  {
   "cell_type": "code",
   "execution_count": 6,
   "id": "infrared-summit",
   "metadata": {},
   "outputs": [],
   "source": [
    "proj_root = path(TXT_PROJ_ROOT)"
   ]
  },
  {
   "cell_type": "code",
   "execution_count": 7,
   "id": "blank-cooking",
   "metadata": {},
   "outputs": [],
   "source": [
    "parse_pdb = (\n",
    "    lambda x: \n",
    "    pdb\n",
    "    .PDBParser(QUIET=True)\n",
    "    .get_structure(id = x.name.replace(\".pdb\", \"\"), file = x.abs )\n",
    ") # x doit être un fichier de type piestruct.utils.customobjs.Path"
   ]
  },
  {
   "cell_type": "code",
   "execution_count": 8,
   "id": "bridal-orlando",
   "metadata": {},
   "outputs": [
    {
     "data": {
      "text/plain": [
       "{'1he8.pdb': PosixPath('/home/gml/Documents/Master/M1_BIBS/S2/Structurale/data/1he8.pdb'),\n",
       " '1HE8_AB_c.pdb': PosixPath('/home/gml/Documents/Master/M1_BIBS/S2/Structurale/data/1HE8_AB_c.pdb'),\n",
       " '1e8y.pdb': PosixPath('/home/gml/Documents/Master/M1_BIBS/S2/Structurale/data/1e8y.pdb'),\n",
       " '121p.pdb': PosixPath('/home/gml/Documents/Master/M1_BIBS/S2/Structurale/data/121p.pdb')}"
      ]
     },
     "execution_count": 8,
     "metadata": {},
     "output_type": "execute_result"
    }
   ],
   "source": [
    "pdb_files = proj_root.joinpath(\"data\").dglob(\"*.pdb\")\n",
    "pdb_files"
   ]
  },
  {
   "cell_type": "code",
   "execution_count": 9,
   "id": "brilliant-tribute",
   "metadata": {},
   "outputs": [
    {
     "data": {
      "text/plain": [
       "'121p.pdb'"
      ]
     },
     "execution_count": 9,
     "metadata": {},
     "output_type": "execute_result"
    }
   ],
   "source": [
    "pdb_files[\"121p.pdb\"].name"
   ]
  },
  {
   "cell_type": "code",
   "execution_count": 10,
   "id": "demographic-battery",
   "metadata": {},
   "outputs": [
    {
     "data": {
      "text/plain": [
       "{'1he8': <Structure id=1he8>,\n",
       " '1HE8_AB_c': <Structure id=1HE8_AB_c>,\n",
       " '1e8y': <Structure id=1e8y>,\n",
       " '121p': <Structure id=121p>}"
      ]
     },
     "execution_count": 10,
     "metadata": {},
     "output_type": "execute_result"
    }
   ],
   "source": [
    "(biop_struct := odict({ \n",
    "        name.replace(\".pdb\", \"\"):  parse_pdb(location) \n",
    "        for name, location in pdb_files.items() \n",
    "}))"
   ]
  },
  {
   "cell_type": "code",
   "execution_count": 11,
   "id": "imposed-insulin",
   "metadata": {},
   "outputs": [
    {
     "name": "stdout",
     "output_type": "stream",
     "text": [
      "1\n",
      "1\n",
      "1\n",
      "1\n"
     ]
    }
   ],
   "source": [
    "for struct in biop_struct.values():\n",
    "    print(len(struct))"
   ]
  },
  {
   "cell_type": "code",
   "execution_count": 12,
   "id": "specified-slave",
   "metadata": {},
   "outputs": [
    {
     "data": {
      "text/plain": [
       "{'1he8': <Model id=0>,\n",
       " '1HE8_AB_c': <Model id=0>,\n",
       " '1e8y': <Model id=0>,\n",
       " '121p': <Model id=0>}"
      ]
     },
     "execution_count": 12,
     "metadata": {},
     "output_type": "execute_result"
    }
   ],
   "source": [
    "(biop_models := odict({\n",
    "    name: struct[0] \n",
    "    for name, struct in biop_struct.items()\n",
    "}))"
   ]
  },
  {
   "cell_type": "markdown",
   "id": "final-dryer",
   "metadata": {},
   "source": [
    "## Créer les structures \"freesasa\""
   ]
  },
  {
   "cell_type": "code",
   "execution_count": 13,
   "id": "stopped-accountability",
   "metadata": {},
   "outputs": [
    {
     "data": {
      "text/plain": [
       "{'1he8': <freesasa.Structure at 0x7efe43734870>,\n",
       " '1HE8_AB_c': <freesasa.Structure at 0x7efe43734120>,\n",
       " '1e8y': <freesasa.Structure at 0x7efe437349f0>,\n",
       " '121p': <freesasa.Structure at 0x7efe437349c0>}"
      ]
     },
     "execution_count": 13,
     "metadata": {},
     "output_type": "execute_result"
    }
   ],
   "source": [
    "structures = odict({ \n",
    "    name.replace(\".pdb\", \"\"): freesasa.Structure(location.abs) \n",
    "    for name, location in pdb_files.items() \n",
    "})\n",
    "structures"
   ]
  },
  {
   "cell_type": "markdown",
   "id": "floating-shower",
   "metadata": {},
   "source": [
    "## Calculer les aires"
   ]
  },
  {
   "cell_type": "code",
   "execution_count": 14,
   "id": "confirmed-affiliation",
   "metadata": {},
   "outputs": [
    {
     "data": {
      "text/plain": [
       "{'1he8': <freesasa.Result at 0x7efe424fd570>,\n",
       " '1HE8_AB_c': <freesasa.Result at 0x7efe424fd790>,\n",
       " '1e8y': <freesasa.Result at 0x7efe424fd610>,\n",
       " '121p': <freesasa.Result at 0x7efe424fd710>}"
      ]
     },
     "execution_count": 14,
     "metadata": {},
     "output_type": "execute_result"
    }
   ],
   "source": [
    "sasas = odict({\n",
    "    name: freesasa.calc(struct)\n",
    "    for name, struct in structures.items()\n",
    "})\n",
    "sasas"
   ]
  },
  {
   "cell_type": "code",
   "execution_count": 15,
   "id": "impressed-herald",
   "metadata": {},
   "outputs": [],
   "source": [
    "resid_areas = odict({\n",
    "    name: sasa.residueAreas()\n",
    "    for name, sasa in sasas.items()\n",
    "})"
   ]
  },
  {
   "cell_type": "code",
   "execution_count": 16,
   "id": "defined-tragedy",
   "metadata": {},
   "outputs": [],
   "source": [
    "monomere1 = resid_areas[\"121p\"]\n",
    "monomere2 = resid_areas[\"1e8y\"]"
   ]
  },
  {
   "cell_type": "code",
   "execution_count": 17,
   "id": "massive-microwave",
   "metadata": {},
   "outputs": [
    {
     "data": {
      "text/plain": [
       "(dict_keys(['A']), dict_keys(['A']))"
      ]
     },
     "execution_count": 17,
     "metadata": {},
     "output_type": "execute_result"
    }
   ],
   "source": [
    "monomere1.keys(), monomere2.keys()"
   ]
  },
  {
   "cell_type": "code",
   "execution_count": 18,
   "id": "requested-synthesis",
   "metadata": {},
   "outputs": [],
   "source": [
    "for value in monomere1[\"A\"].values():\n",
    "    if value.relativeTotal > 1.0:\n",
    "        print(\"Error\")"
   ]
  },
  {
   "cell_type": "code",
   "execution_count": 19,
   "id": "middle-burst",
   "metadata": {
    "scrolled": true
   },
   "outputs": [],
   "source": [
    "relative_sasas = odict({\n",
    "    name: odict({\n",
    "        chain_name: sum(residu.relativeTotal for residu in chain.values())\n",
    "        for chain_name, chain in entry.items()\n",
    "    })\n",
    "    for name, entry in resid_areas.items()\n",
    "})"
   ]
  },
  {
   "cell_type": "code",
   "execution_count": 20,
   "id": "diverse-floor",
   "metadata": {},
   "outputs": [],
   "source": [
    "for entry, chains in relative_sasas.items():\n",
    "    if len(chains) > 1:\n",
    "        chains.update(odict({\n",
    "            \"total\": sum(chain for chain in chains.values())\n",
    "        }))"
   ]
  },
  {
   "cell_type": "code",
   "execution_count": 21,
   "id": "worth-prince",
   "metadata": {},
   "outputs": [],
   "source": [
    "total_sasas = odict({\n",
    "    name: odict({\n",
    "        chain_name: sum(residu.total for residu in chain.values())\n",
    "        for chain_name, chain in entry.items()\n",
    "    })\n",
    "    for name, entry in resid_areas.items()\n",
    "})"
   ]
  },
  {
   "cell_type": "code",
   "execution_count": 22,
   "id": "pointed-timer",
   "metadata": {},
   "outputs": [],
   "source": [
    "for entry, chains in total_sasas.items():\n",
    "    if len(chains) > 1:\n",
    "        chains.update(odict({\n",
    "            \"total\": sum(chain for chain in chains.values())\n",
    "        }))"
   ]
  },
  {
   "cell_type": "code",
   "execution_count": 23,
   "id": "diagnostic-pitch",
   "metadata": {},
   "outputs": [
    {
     "data": {
      "text/plain": [
       "{'1he8': {'A': 32729.062149104324,\n",
       "  'B': 7427.585501586975,\n",
       "  'total': 40156.6476506913},\n",
       " '1HE8_AB_c': {'A': 32729.062149104324,\n",
       "  'B': 7427.585501586975,\n",
       "  'total': 40156.6476506913},\n",
       " '1e8y': {'A': 36797.43189172239},\n",
       " '121p': {'A': 8720.956397446842}}"
      ]
     },
     "execution_count": 23,
     "metadata": {},
     "output_type": "execute_result"
    }
   ],
   "source": [
    "total_sasas"
   ]
  },
  {
   "cell_type": "code",
   "execution_count": 24,
   "id": "prime-listening",
   "metadata": {},
   "outputs": [
    {
     "data": {
      "text/plain": [
       "{'1he8': {'A': 201.56061472864042,\n",
       "  'B': 45.29767600588998,\n",
       "  'total': 246.85829073453039},\n",
       " '1HE8_AB_c': {'A': 201.56061472864042,\n",
       "  'B': 45.29767600588998,\n",
       "  'total': 246.85829073453039},\n",
       " '1e8y': {'A': 227.03229561572496},\n",
       " '121p': {'A': 53.29124167145358}}"
      ]
     },
     "execution_count": 24,
     "metadata": {},
     "output_type": "execute_result"
    }
   ],
   "source": [
    "relative_sasas"
   ]
  },
  {
   "cell_type": "code",
   "execution_count": 25,
   "id": "literary-albuquerque",
   "metadata": {},
   "outputs": [],
   "source": [
    "views = odict({\n",
    "    name: nv.show_biopython(model)\n",
    "    for name, model in biop_models.items()\n",
    "})"
   ]
  },
  {
   "cell_type": "code",
   "execution_count": 26,
   "id": "classical-commitment",
   "metadata": {},
   "outputs": [
    {
     "data": {
      "application/vnd.jupyter.widget-view+json": {
       "model_id": "6416b47304e94268979ffce5614fa610",
       "version_major": 2,
       "version_minor": 0
      },
      "text/plain": [
       "NGLWidget()"
      ]
     },
     "metadata": {},
     "output_type": "display_data"
    }
   ],
   "source": [
    "views[\"1HE8_AB_c\"]"
   ]
  },
  {
   "cell_type": "code",
   "execution_count": 27,
   "id": "acoustic-french",
   "metadata": {},
   "outputs": [
    {
     "data": {
      "text/plain": [
       "<freesasa.ResidueArea at 0x7efe423f9400>"
      ]
     },
     "execution_count": 27,
     "metadata": {},
     "output_type": "execute_result"
    }
   ],
   "source": [
    "# Surface \n",
    "resid_areas[\"1HE8_AB_c\"][\"A\"][\"459\"]\n",
    "resid_areas[\"1HE8_AB_c\"][\"B\"][\"47\"]"
   ]
  },
  {
   "cell_type": "code",
   "execution_count": 28,
   "id": "specific-state",
   "metadata": {},
   "outputs": [
    {
     "data": {
      "text/plain": [
       "<freesasa.ResidueArea at 0x7efe423f9280>"
      ]
     },
     "execution_count": 28,
     "metadata": {},
     "output_type": "execute_result"
    }
   ],
   "source": [
    "# Interface \n",
    "resid_areas[\"1HE8_AB_c\"][\"A\"][\"231\"]\n",
    "resid_areas[\"1HE8_AB_c\"][\"B\"][\"39\"]"
   ]
  },
  {
   "cell_type": "code",
   "execution_count": 29,
   "id": "cellular-channels",
   "metadata": {},
   "outputs": [
    {
     "data": {
      "text/plain": [
       "0.32488532749843224"
      ]
     },
     "execution_count": 29,
     "metadata": {},
     "output_type": "execute_result"
    }
   ],
   "source": [
    "resid_areas[\"1HE8_AB_c\"][\"B\"][\"39\"].relativeTotal"
   ]
  },
  {
   "cell_type": "code",
   "execution_count": 30,
   "id": "cathedral-queens",
   "metadata": {},
   "outputs": [
    {
     "data": {
      "text/plain": [
       "38.44692965616447"
      ]
     },
     "execution_count": 30,
     "metadata": {},
     "output_type": "execute_result"
    }
   ],
   "source": [
    "resid_areas[\"1HE8_AB_c\"][\"B\"][\"39\"].total"
   ]
  },
  {
   "cell_type": "code",
   "execution_count": 31,
   "id": "several-directory",
   "metadata": {},
   "outputs": [
    {
     "data": {
      "text/plain": [
       "{'1he8': dict_keys(['A', 'B']),\n",
       " '1HE8_AB_c': dict_keys(['A', 'B']),\n",
       " '1e8y': dict_keys(['A']),\n",
       " '121p': dict_keys(['A'])}"
      ]
     },
     "execution_count": 31,
     "metadata": {},
     "output_type": "execute_result"
    }
   ],
   "source": [
    "{ name: entry.keys() for name, entry in resid_areas.items() }"
   ]
  },
  {
   "cell_type": "code",
   "execution_count": 32,
   "id": "acoustic-richardson",
   "metadata": {},
   "outputs": [
    {
     "data": {
      "text/plain": [
       "53.29124167145358"
      ]
     },
     "execution_count": 32,
     "metadata": {},
     "output_type": "execute_result"
    }
   ],
   "source": [
    "sum(residu.relativeTotal for residu in monomere1[\"A\"].values())"
   ]
  },
  {
   "cell_type": "code",
   "execution_count": 33,
   "id": "failing-poetry",
   "metadata": {},
   "outputs": [
    {
     "data": {
      "text/plain": [
       "8720.956397446842"
      ]
     },
     "execution_count": 33,
     "metadata": {},
     "output_type": "execute_result"
    }
   ],
   "source": [
    "sum(sasa.total for sasa in monomere1[\"A\"].values())"
   ]
  },
  {
   "cell_type": "code",
   "execution_count": 34,
   "id": "dense-lancaster",
   "metadata": {},
   "outputs": [
    {
     "data": {
      "text/plain": [
       "{'a': {'0': 0, '1': 1, '2': 4, '3': 9, '4': 16, '5': 25, '6': 36, '7': 49},\n",
       " 'b': {'0': 0, '1': 1, '2': 4, '3': 9, '4': 16, '5': 25, '6': 36, '7': 49},\n",
       " 'c': {'0': 0, '1': 1, '2': 4, '3': 9, '4': 16, '5': 25, '6': 36, '7': 49},\n",
       " 'd': {'0': 0, '1': 1, '2': 4, '3': 9, '4': 16, '5': 25, '6': 36, '7': 49}}"
      ]
     },
     "execution_count": 34,
     "metadata": {},
     "output_type": "execute_result"
    }
   ],
   "source": [
    "{\n",
    "  i: {str(j): j**2 for j in range(8)}\n",
    "  for i in list(\"abcd\")\n",
    "} "
   ]
  },
  {
   "cell_type": "code",
   "execution_count": 35,
   "id": "massive-olive",
   "metadata": {},
   "outputs": [],
   "source": [
    "complexe = sasas['1HE8_AB_c'].residueAreas()"
   ]
  },
  {
   "cell_type": "code",
   "execution_count": 36,
   "id": "tough-muscle",
   "metadata": {},
   "outputs": [
    {
     "data": {
      "text/plain": [
       "dict_keys(['A', 'B'])"
      ]
     },
     "execution_count": 36,
     "metadata": {},
     "output_type": "execute_result"
    }
   ],
   "source": [
    "complexe.keys()"
   ]
  },
  {
   "cell_type": "code",
   "execution_count": 40,
   "id": "growing-period",
   "metadata": {},
   "outputs": [
    {
     "data": {
      "text/plain": [
       "['apolar',\n",
       " 'hasRelativeAreas',\n",
       " 'mainChain',\n",
       " 'polar',\n",
       " 'relativeApolar',\n",
       " 'relativeMainChain',\n",
       " 'relativePolar',\n",
       " 'relativeSideChain',\n",
       " 'relativeTotal',\n",
       " 'residueNumber',\n",
       " 'residueType',\n",
       " 'sideChain',\n",
       " 'total']"
      ]
     },
     "execution_count": 40,
     "metadata": {},
     "output_type": "execute_result"
    }
   ],
   "source": [
    "udir(monomere1[\"A\"][\"1\"])"
   ]
  },
  {
   "cell_type": "code",
   "execution_count": null,
   "id": "expanded-meditation",
   "metadata": {},
   "outputs": [],
   "source": []
  }
 ],
 "metadata": {
  "kernelspec": {
   "display_name": "Python 3",
   "language": "python",
   "name": "python3"
  },
  "language_info": {
   "codemirror_mode": {
    "name": "ipython",
    "version": 3
   },
   "file_extension": ".py",
   "mimetype": "text/x-python",
   "name": "python",
   "nbconvert_exporter": "python",
   "pygments_lexer": "ipython3",
   "version": "3.8.6"
  }
 },
 "nbformat": 4,
 "nbformat_minor": 5
}
